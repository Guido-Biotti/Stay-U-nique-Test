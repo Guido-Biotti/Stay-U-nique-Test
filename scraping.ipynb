{
 "cells": [
  {
   "cell_type": "markdown",
   "metadata": {},
   "source": [
    "# Scraping\n",
    "First I start importing all the necessary libraries I'll use for the scraping."
   ]
  },
  {
   "cell_type": "code",
   "execution_count": 14,
   "metadata": {},
   "outputs": [],
   "source": [
    "from selenium import webdriver\n",
    "from selenium.webdriver.common.by import By\n",
    "from selenium.webdriver.chrome.service import Service\n",
    "from webdriver_manager.chrome import ChromeDriverManager\n",
    "import pandas as pd\n",
    "import time\n",
    "from selenium.webdriver.chrome.options import Options\n",
    "from selenium.common.exceptions import StaleElementReferenceException, NoSuchElementException\n",
    "import re"
   ]
  },
  {
   "cell_type": "markdown",
   "metadata": {},
   "source": [
    "Now I start the scraping on the website. I'll get the data from the website and store it in a pandas dataframe to then save it on a .csv file."
   ]
  },
  {
   "cell_type": "code",
   "execution_count": 29,
   "metadata": {},
   "outputs": [
    {
     "name": "stdout",
     "output_type": "stream",
     "text": [
      "Data saved to airbnb_barcelona.csv\n"
     ]
    }
   ],
   "source": [
    "# Initialize the Selenium WebDriver\n",
    "opts = Options()\n",
    "opts.add_argument(\"user-agent=Mozilla/5.0 (Macintosh; Intel Mac OS X 10_15_7) AppleWebKit/537.36 (KHTML, like Gecko) Chrome/113.0.0.0 Safari/537.36\")\n",
    "opts.add_argument(\"--headless\")\n",
    "\n",
    "driver = webdriver.Chrome(service=Service(ChromeDriverManager().install()), options=opts)\n",
    "\n",
    "# Open the Airbnb Barcelona page\n",
    "url = \"https://www.airbnb.com/s/Barcelona--Spain/homes\"\n",
    "driver.get(url)\n",
    "\n",
    "# I'll let the page load for a few seconds to ensure that all content is loaded properly\n",
    "time.sleep(5)\n",
    "\n",
    "properties = []\n",
    "\n",
    "# I'll loop through multiple pages if necessary, but I'll stop once I've collected 100 properties\n",
    "while len(properties) < 100:\n",
    "    try:\n",
    "        # Here, I'm extracting the data for property names, prices, and ratings\n",
    "        names = driver.find_elements(By.XPATH, '//div[@data-testid=\"listing-card-title\"]')\n",
    "        prices = driver.find_elements(By.XPATH, '//div[@data-testid=\"price-availability-row\"]')\n",
    "        ratings = driver.find_elements(By.XPATH, '//div[@class=\"t1a9j9y7 atm_da_1ko3t4y atm_dm_kb7nvz atm_fg_h9n0ih dir dir-ltr\"]')\n",
    "        # I couldn't find a way to get the number of rooms of each property with the time I had, so I'll skip that for now \n",
    "        for i in range(len(names)):\n",
    "            name = names[i].text.replace('\"',\"\").strip()\n",
    "\n",
    "            # I use regex to clean the price and extract the first number\n",
    "            price = re.search(r\"\\$\\d+\", prices[i].text).group(0)\n",
    "\n",
    "            # Now I handle the ratings, ensuring None values don't cause issues\n",
    "            try:\n",
    "                rating = re.search(r\"(\\d+,\\d+)\", ratings[i].text).group(0).replace(\",\", \".\")\n",
    "            except:\n",
    "                rating = None\n",
    "            if rating != None:\n",
    "                # I append the extracted data if all elements (name, price, rating) are present\n",
    "                properties.append({\n",
    "                    'Name': name,\n",
    "                    'Price in USD': price,\n",
    "                    'Rating out of 5': rating\n",
    "                })\n",
    "\n",
    "    except Exception as e:\n",
    "        print(f\"Error extracting data for one listing: {e}\")\n",
    "        continue\n",
    "\n",
    "    # If I have collected 100 properties, I'll stop the loop\n",
    "    if len(properties) >= 100:\n",
    "        break\n",
    "\n",
    "    # Here, I try to click the \"Next\" button to load more listings if available\n",
    "    try:\n",
    "        next_button = driver.find_element(By.XPATH, '//a[@aria-label=\"Siguiente\"]')\n",
    "        next_button.click()\n",
    "        # I'll wait for the next page to load before extracting data\n",
    "        time.sleep(5)\n",
    "    except NoSuchElementException as e:\n",
    "        print(\"No more pages or error navigating to next page:\", e)\n",
    "        break\n",
    "\n",
    "# Once the data is collected, I create a pandas DataFrame\n",
    "df = pd.DataFrame(properties)\n",
    "\n",
    "# I save the DataFrame to a CSV file\n",
    "df.to_csv('airbnb_barcelona.csv', index=False)\n",
    "print(\"Data saved to airbnb_barcelona.csv\")\n",
    "\n",
    "# Finally, I close the browser to end the session\n",
    "driver.quit()"
   ]
  }
 ],
 "metadata": {
  "kernelspec": {
   "display_name": "venv",
   "language": "python",
   "name": "python3"
  },
  "language_info": {
   "codemirror_mode": {
    "name": "ipython",
    "version": 3
   },
   "file_extension": ".py",
   "mimetype": "text/x-python",
   "name": "python",
   "nbconvert_exporter": "python",
   "pygments_lexer": "ipython3",
   "version": "3.12.7"
  }
 },
 "nbformat": 4,
 "nbformat_minor": 2
}
