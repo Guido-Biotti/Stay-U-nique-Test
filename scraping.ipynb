{
 "cells": [
  {
   "cell_type": "markdown",
   "metadata": {},
   "source": [
    "# Scraping\n",
    "Primero comienzo por importar las librerías necesarias para realizar el scraping de la página web."
   ]
  },
  {
   "cell_type": "code",
   "execution_count": 11,
   "metadata": {},
   "outputs": [],
   "source": [
    "from selenium import webdriver\n",
    "from selenium.webdriver.common.by import By\n",
    "from selenium.webdriver.chrome.service import Service\n",
    "from webdriver_manager.chrome import ChromeDriverManager\n",
    "import pandas as pd\n",
    "import time"
   ]
  },
  {
   "cell_type": "markdown",
   "metadata": {},
   "source": [
    "Ahora comienzo a realizar el scraping"
   ]
  },
  {
   "cell_type": "code",
   "execution_count": null,
   "metadata": {},
   "outputs": [
    {
     "name": "stdout",
     "output_type": "stream",
     "text": [
      "Number of listings: 0\n",
      "Data saved to airbnb_barcelona.csv\n"
     ]
    }
   ],
   "source": [
    "# Initialize the Selenium WebDriver\n",
    "from selenium.webdriver.chrome.options import Options\n",
    "\n",
    "chrome_options = Options()\n",
    "chrome_options.add_argument(\"--headless\")  # Run Chrome in headless mode\n",
    "chrome_options.add_argument(\"--disable-gpu\")  # Disable GPU acceleration\n",
    "\n",
    "driver = webdriver.Chrome(service=Service(ChromeDriverManager().install()), options=chrome_options)\n",
    "\n",
    "# Open the Airbnb Barcelona page\n",
    "url = \"https://www.airbnb.com/s/Barcelona--Spain/homes\"\n",
    "driver.get(url)\n",
    "\n",
    "# Let the page load for a few seconds to ensure that all content is loaded\n",
    "time.sleep(5)  # You can adjust the sleep time or use WebDriver waits for better control\n",
    "\n",
    "# Find all the listings on the page\n",
    "listings = driver.find_elements(By.XPATH, '//div[contains(@class, \"l1ovpqvx atm_1he2i46_1k8pnbi_10saat9 atm_yxpdqi_1pv6nv4_10saat9 atm_1a0hdzc_w1h1e8_10saat9 atm_2bu6ew_929bqk_10saat9 atm_12oyo1u_73u7pn_10saat9 atm_fiaz40_1etamxe_10saat9 bn2bl2p atm_5j_223wjw atm_9s_1ulexfb atm_e2_1osqo2v atm_fq_idpfg4 atm_mk_stnw88 atm_tk_idpfg4 atm_vy_1osqo2v atm_26_1j28jx2 atm_3f_glywfm atm_kd_glywfm atm_3f_glywfm_jo46a5 atm_l8_idpfg4_jo46a5 atm_gi_idpfg4_jo46a5 atm_3f_glywfm_1icshfk atm_kd_glywfm_19774hq atm_uc_aaiy6o_1w3cfyq_oggzyc atm_70_1b8lkes_1w3cfyq_oggzyc atm_uc_glywfm_1w3cfyq_pynvjw atm_uc_aaiy6o_pfnrn2_ivgyl9 atm_70_1b8lkes_pfnrn2_ivgyl9 atm_uc_glywfm_pfnrn2_61fwbc dir dir-ltr\")]')  # Adjust XPATH\n",
    "print(f\"Number of listings: {len(listings)}\")\n",
    "properties = []\n",
    "\n",
    "for listing in listings:\n",
    "    if properties.length >= 100:\n",
    "        try:\n",
    "            # Extract the details for each listing\n",
    "            name = listing.find_element(By.XPATH, './/a[contains(@class, \"property_name_class\")]').text\n",
    "            address = listing.find_element(By.XPATH, './/span[contains(@class, \"address_class\")]').text\n",
    "            price = listing.find_element(By.XPATH, './/span[contains(@class, \"price_class\")]').text\n",
    "            rating = listing.find_element(By.XPATH, './/span[contains(@class, \"rating_class\")]').text\n",
    "            num_rooms = listing.find_element(By.XPATH, './/span[contains(@class, \"rooms_class\")]').text\n",
    "            \n",
    "            # Append the data to the properties list\n",
    "            properties.append({\n",
    "                'Name': name,\n",
    "                'Address': address,\n",
    "                'Price per night': price,\n",
    "                'Rating': rating,\n",
    "                'Number of Rooms': num_rooms\n",
    "            })\n",
    "            \n",
    "        except Exception as e:\n",
    "            print(f\"Error: {e}\")\n",
    "            continue\n",
    "    else:\n",
    "        break\n",
    "# Create a pandas DataFrame\n",
    "df = pd.DataFrame(properties)\n",
    "\n",
    "# Save the DataFrame to a CSV file\n",
    "df.to_csv('airbnb_barcelona.csv', index=False)\n",
    "print(\"Data saved to airbnb_barcelona.csv\")\n",
    "\n",
    "# Close the browser\n",
    "driver.quit()\n"
   ]
  }
 ],
 "metadata": {
  "kernelspec": {
   "display_name": ".venv",
   "language": "python",
   "name": "python3"
  },
  "language_info": {
   "codemirror_mode": {
    "name": "ipython",
    "version": 3
   },
   "file_extension": ".py",
   "mimetype": "text/x-python",
   "name": "python",
   "nbconvert_exporter": "python",
   "pygments_lexer": "ipython3",
   "version": "3.12.6"
  }
 },
 "nbformat": 4,
 "nbformat_minor": 2
}
